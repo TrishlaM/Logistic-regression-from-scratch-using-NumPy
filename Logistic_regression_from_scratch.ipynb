{
  "nbformat": 4,
  "nbformat_minor": 0,
  "metadata": {
    "colab": {
      "name": "Logistic regression from scratch.ipynb",
      "provenance": [],
      "collapsed_sections": []
    },
    "kernelspec": {
      "name": "python3",
      "display_name": "Python 3"
    }
  },
  "cells": [
    {
      "cell_type": "code",
      "metadata": {
        "id": "xYZVfXWcpxTo",
        "colab_type": "code",
        "colab": {}
      },
      "source": [
        "import matplotlib.pyplot as plt\n",
        "import pandas as pd\n",
        "import numpy as np\n",
        "import scipy"
      ],
      "execution_count": 0,
      "outputs": []
    },
    {
      "cell_type": "code",
      "metadata": {
        "id": "0Tr3z5qSqI_9",
        "colab_type": "code",
        "colab": {
          "base_uri": "https://localhost:8080/",
          "height": 204
        },
        "outputId": "b6dbe589-5373-442e-b284-c226e15c4467"
      },
      "source": [
        "diabetes = pd.read_csv('/content/diabetes.csv')\n",
        "diabetes.head()"
      ],
      "execution_count": 617,
      "outputs": [
        {
          "output_type": "execute_result",
          "data": {
            "text/html": [
              "<div>\n",
              "<style scoped>\n",
              "    .dataframe tbody tr th:only-of-type {\n",
              "        vertical-align: middle;\n",
              "    }\n",
              "\n",
              "    .dataframe tbody tr th {\n",
              "        vertical-align: top;\n",
              "    }\n",
              "\n",
              "    .dataframe thead th {\n",
              "        text-align: right;\n",
              "    }\n",
              "</style>\n",
              "<table border=\"1\" class=\"dataframe\">\n",
              "  <thead>\n",
              "    <tr style=\"text-align: right;\">\n",
              "      <th></th>\n",
              "      <th>Pregnancies</th>\n",
              "      <th>Glucose</th>\n",
              "      <th>BloodPressure</th>\n",
              "      <th>SkinThickness</th>\n",
              "      <th>Insulin</th>\n",
              "      <th>BMI</th>\n",
              "      <th>DiabetesPedigreeFunction</th>\n",
              "      <th>Age</th>\n",
              "      <th>Outcome</th>\n",
              "    </tr>\n",
              "  </thead>\n",
              "  <tbody>\n",
              "    <tr>\n",
              "      <th>0</th>\n",
              "      <td>6</td>\n",
              "      <td>148</td>\n",
              "      <td>72</td>\n",
              "      <td>35</td>\n",
              "      <td>0</td>\n",
              "      <td>33.6</td>\n",
              "      <td>0.627</td>\n",
              "      <td>50</td>\n",
              "      <td>1</td>\n",
              "    </tr>\n",
              "    <tr>\n",
              "      <th>1</th>\n",
              "      <td>1</td>\n",
              "      <td>85</td>\n",
              "      <td>66</td>\n",
              "      <td>29</td>\n",
              "      <td>0</td>\n",
              "      <td>26.6</td>\n",
              "      <td>0.351</td>\n",
              "      <td>31</td>\n",
              "      <td>0</td>\n",
              "    </tr>\n",
              "    <tr>\n",
              "      <th>2</th>\n",
              "      <td>8</td>\n",
              "      <td>183</td>\n",
              "      <td>64</td>\n",
              "      <td>0</td>\n",
              "      <td>0</td>\n",
              "      <td>23.3</td>\n",
              "      <td>0.672</td>\n",
              "      <td>32</td>\n",
              "      <td>1</td>\n",
              "    </tr>\n",
              "    <tr>\n",
              "      <th>3</th>\n",
              "      <td>1</td>\n",
              "      <td>89</td>\n",
              "      <td>66</td>\n",
              "      <td>23</td>\n",
              "      <td>94</td>\n",
              "      <td>28.1</td>\n",
              "      <td>0.167</td>\n",
              "      <td>21</td>\n",
              "      <td>0</td>\n",
              "    </tr>\n",
              "    <tr>\n",
              "      <th>4</th>\n",
              "      <td>0</td>\n",
              "      <td>137</td>\n",
              "      <td>40</td>\n",
              "      <td>35</td>\n",
              "      <td>168</td>\n",
              "      <td>43.1</td>\n",
              "      <td>2.288</td>\n",
              "      <td>33</td>\n",
              "      <td>1</td>\n",
              "    </tr>\n",
              "  </tbody>\n",
              "</table>\n",
              "</div>"
            ],
            "text/plain": [
              "   Pregnancies  Glucose  BloodPressure  ...  DiabetesPedigreeFunction  Age  Outcome\n",
              "0            6      148             72  ...                     0.627   50        1\n",
              "1            1       85             66  ...                     0.351   31        0\n",
              "2            8      183             64  ...                     0.672   32        1\n",
              "3            1       89             66  ...                     0.167   21        0\n",
              "4            0      137             40  ...                     2.288   33        1\n",
              "\n",
              "[5 rows x 9 columns]"
            ]
          },
          "metadata": {
            "tags": []
          },
          "execution_count": 617
        }
      ]
    },
    {
      "cell_type": "code",
      "metadata": {
        "id": "8BGz1gNAqOna",
        "colab_type": "code",
        "colab": {
          "base_uri": "https://localhost:8080/",
          "height": 187
        },
        "outputId": "68e53300-7a89-4ea7-cf8a-444e76196365"
      },
      "source": [
        "diabetes.dtypes"
      ],
      "execution_count": 618,
      "outputs": [
        {
          "output_type": "execute_result",
          "data": {
            "text/plain": [
              "Pregnancies                   int64\n",
              "Glucose                       int64\n",
              "BloodPressure                 int64\n",
              "SkinThickness                 int64\n",
              "Insulin                       int64\n",
              "BMI                         float64\n",
              "DiabetesPedigreeFunction    float64\n",
              "Age                           int64\n",
              "Outcome                       int64\n",
              "dtype: object"
            ]
          },
          "metadata": {
            "tags": []
          },
          "execution_count": 618
        }
      ]
    },
    {
      "cell_type": "code",
      "metadata": {
        "id": "3jQj3R-nq3_u",
        "colab_type": "code",
        "colab": {
          "base_uri": "https://localhost:8080/",
          "height": 51
        },
        "outputId": "4e3e2094-f0fb-4b41-dc9f-b54cd3a3fd6d"
      },
      "source": [
        "X = diabetes.drop(columns = ['Outcome'])\n",
        "Y = diabetes['Outcome']\n",
        "\n",
        "print('Shape of X : ', X.shape)\n",
        "print('Shape of Y : ', Y.shape)"
      ],
      "execution_count": 619,
      "outputs": [
        {
          "output_type": "stream",
          "text": [
            "Shape of X :  (768, 8)\n",
            "Shape of Y :  (768,)\n"
          ],
          "name": "stdout"
        }
      ]
    },
    {
      "cell_type": "code",
      "metadata": {
        "id": "-dAK2x9ErL0D",
        "colab_type": "code",
        "colab": {}
      },
      "source": [
        "from sklearn.model_selection import train_test_split\n",
        "X_train, X_test, Y_train, Y_test = train_test_split(X, Y, test_size = 0.25)"
      ],
      "execution_count": 0,
      "outputs": []
    },
    {
      "cell_type": "code",
      "metadata": {
        "id": "1kjdLA1_raVV",
        "colab_type": "code",
        "colab": {
          "base_uri": "https://localhost:8080/",
          "height": 85
        },
        "outputId": "ae423237-7b02-465f-9ed5-d3c5bb6d12fc"
      },
      "source": [
        "print('Shape of X_train : ', X_train.shape)\n",
        "print('Shape of Y_train : ', Y_train.shape)\n",
        "print('Shape of X_test : ', X_test.shape)\n",
        "print('Shape of Y_test : ', Y_test.shape)"
      ],
      "execution_count": 622,
      "outputs": [
        {
          "output_type": "stream",
          "text": [
            "Shape of X_train :  (576, 8)\n",
            "Shape of Y_train :  (576,)\n",
            "Shape of X_test :  (192, 8)\n",
            "Shape of Y_test :  (192,)\n"
          ],
          "name": "stdout"
        }
      ]
    },
    {
      "cell_type": "code",
      "metadata": {
        "id": "4vV40bnvEgC4",
        "colab_type": "code",
        "colab": {}
      },
      "source": [
        "def standardize_predictors(X_train, X_test):\n",
        "  X_train = np.asarray(X_train, dtype=np.float64)\n",
        "  X_test = np.asarray(X_test, dtype=np.float64)\n",
        "  mean = np.mean(X_train, axis = 0)\n",
        "  std = np.std(X_train, axis = 0)\n",
        "  print(mean)\n",
        "  print(std)\n",
        "  X_train = (X_train - mean)/std\n",
        "  X_test = (X_test - mean)/std\n",
        "  return X_train, X_test"
      ],
      "execution_count": 0,
      "outputs": []
    },
    {
      "cell_type": "code",
      "metadata": {
        "id": "y3wkxg33E0Fw",
        "colab_type": "code",
        "colab": {
          "base_uri": "https://localhost:8080/",
          "height": 85
        },
        "outputId": "96bdf4f0-81be-4123-8ae3-0b7067fa1805"
      },
      "source": [
        "X_train, X_test = standardize_predictors(X_train, X_test)"
      ],
      "execution_count": 624,
      "outputs": [
        {
          "output_type": "stream",
          "text": [
            "[  3.79166667 121.05381944  69.48611111  21.05902778  84.23611111\n",
            "  32.04427083   0.4775      33.03125   ]\n",
            "[  3.28057202  32.20090286  18.36237704  16.05762156 119.17049738\n",
            "   8.02152065   0.33845536  11.77991445]\n"
          ],
          "name": "stdout"
        }
      ]
    },
    {
      "cell_type": "code",
      "metadata": {
        "id": "q3D0JwoBrk-b",
        "colab_type": "code",
        "colab": {
          "base_uri": "https://localhost:8080/",
          "height": 85
        },
        "outputId": "535e0ef0-f288-4bad-f037-b9dda46cd82b"
      },
      "source": [
        "#Vectorization for logistic regression from scratch\n",
        "feature_train = X_train.T\n",
        "feature_test = X_test.T\n",
        "\n",
        "label_train = np.asarray(Y_train).reshape(-1,1).T\n",
        "label_test = np.asarray(Y_test).reshape(-1,1).T\n",
        "\n",
        "print('Shape of training features : ', feature_train.shape)\n",
        "print('Shape of testing features : ', feature_test.shape)\n",
        "print('Shape of training labels : ', label_train.shape)\n",
        "print('Shape of testing labels : ', label_test.shape)"
      ],
      "execution_count": 625,
      "outputs": [
        {
          "output_type": "stream",
          "text": [
            "Shape of training features :  (8, 576)\n",
            "Shape of testing features :  (8, 192)\n",
            "Shape of training labels :  (1, 576)\n",
            "Shape of testing labels :  (1, 192)\n"
          ],
          "name": "stdout"
        }
      ]
    },
    {
      "cell_type": "code",
      "metadata": {
        "id": "bCOprJjit5Ej",
        "colab_type": "code",
        "colab": {}
      },
      "source": [
        "##Definignt the activation function (using sigmoid here)\n",
        "\n",
        "def sigmoid(z):\n",
        "  sig = 1/(1+np.exp(-z))\n",
        "  return sig"
      ],
      "execution_count": 0,
      "outputs": []
    },
    {
      "cell_type": "code",
      "metadata": {
        "id": "lRHL_LCyuHdR",
        "colab_type": "code",
        "colab": {}
      },
      "source": [
        "#Random initialization of parameters (starting with 0)\n",
        "def initialize_parameters(feature_size):\n",
        "\n",
        "  #w = np.random.randn(feature_size, 1)*0.01\n",
        "  w = np.zeros((feature_size, 1))\n",
        "  b = 0\n",
        "  return w, b"
      ],
      "execution_count": 0,
      "outputs": []
    },
    {
      "cell_type": "code",
      "metadata": {
        "id": "RorEL7Hdu2Pj",
        "colab_type": "code",
        "colab": {}
      },
      "source": [
        "#Find the cost function using gradient descent and evaluate gradient values\n",
        "\n",
        "def forward_propagate(w, b, X, Y):\n",
        "  sample_size = X.shape[1]\n",
        "  A = sigmoid(np.dot(w.T, X) + b)\n",
        "  np.seterr(divide = 'ignore')\n",
        "  cost = (-1/sample_size)*np.sum(Y*np.log(A) + (1-Y)*(np.log(1-A)))\n",
        "\n",
        "  #Gradient calculation\n",
        "  dw = (1/sample_size)*np.dot(X, (A-Y).T)\n",
        "  db = (1/sample_size)*np.sum(A-Y)\n",
        "\n",
        "  grads = {'dw':dw,\n",
        "           'db':db}\n",
        "\n",
        "  return grads, cost"
      ],
      "execution_count": 0,
      "outputs": []
    },
    {
      "cell_type": "code",
      "metadata": {
        "id": "arlOa7E0vxs6",
        "colab_type": "code",
        "colab": {}
      },
      "source": [
        "#Optimize the coefficients for cost-reduction\n",
        "\n",
        "def optimize(w, b, X, Y, num_iterations, learning_rate, print_cost = True):\n",
        "  costs = []\n",
        "  for i in range(num_iterations):\n",
        "    grads, cost = forward_propagate(w, b, X, Y)\n",
        "\n",
        "    dw = grads['dw']\n",
        "    db = grads['db']\n",
        "\n",
        "    w = w - learning_rate*dw\n",
        "    b = b - learning_rate*db\n",
        "\n",
        "    if i%100 == 0:\n",
        "      costs.append(cost)\n",
        "\n",
        "    if((print_cost) and (i % 100 == 0)):\n",
        "      print('Cost after ith iteration %i: %f' % (i, cost))\n",
        "  params = {'w':w,\n",
        "            'b':b}\n",
        "\n",
        "  grads = {'dw':dw,\n",
        "           'db':db}\n",
        "\n",
        "  return params, grads, costs"
      ],
      "execution_count": 0,
      "outputs": []
    },
    {
      "cell_type": "code",
      "metadata": {
        "id": "g1v-ClGvxAMa",
        "colab_type": "code",
        "colab": {}
      },
      "source": [
        "def predict(w, b, X):\n",
        "  Y_predict = np.zeros((1, X.shape[1]))\n",
        "  w = w.reshape(X.shape[0], 1)\n",
        "  A = sigmoid(np.dot(w.T, X) + b)\n",
        "\n",
        "  for i in range(A.shape[1]):\n",
        "    if(A[0,i] <= 0.5):\n",
        "      Y_predict[0,i] = 0\n",
        "    else:\n",
        "      Y_predict[0,i] = 1\n",
        "  return Y_predict"
      ],
      "execution_count": 0,
      "outputs": []
    },
    {
      "cell_type": "code",
      "metadata": {
        "id": "h41IKFRxz5Fg",
        "colab_type": "code",
        "colab": {}
      },
      "source": [
        "#Merging all the functions to create one model\n",
        "\n",
        "def Logistic_Regression_Model(X_train, Y_train, X_test, Y_test, num_iterations = 1000, learning_rate = 0.03, print_cost = True):\n",
        "  w, b = initialize_parameters(X_train.shape[0])\n",
        "  parameters, grads, costs = optimize(w, b, X_train, Y_train, num_iterations, learning_rate, print_cost = False)\n",
        "  w = parameters['w']\n",
        "  b = parameters['b']\n",
        "\n",
        "  Y_predict_test = predict(w, b, X_test)\n",
        "  Y_predict_train = predict(w, b, X_train)\n",
        "\n",
        "  print('Test set accuracy : {} %'.format(100 - np.mean(np.abs(Y_predict_test - Y_test)) * 100))\n",
        "  final_values = {\"costs\": costs,\n",
        "                  \"Y_prediction_test\": Y_predict_test, \n",
        "                  \"Y_prediction_train\" : Y_predict_train, \n",
        "                  \"w\" : w, \n",
        "                  \"b\" : b,\n",
        "                  \"learning_rate\" : learning_rate,\n",
        "                  \"num_iterations\": num_iterations}\n",
        "  return final_values"
      ],
      "execution_count": 0,
      "outputs": []
    },
    {
      "cell_type": "code",
      "metadata": {
        "id": "mS70v3tH1dfa",
        "colab_type": "code",
        "colab": {
          "base_uri": "https://localhost:8080/",
          "height": 34
        },
        "outputId": "c4cd9546-4b05-4ed0-b6fa-033d9a75a632"
      },
      "source": [
        "final_values = Logistic_Regression_Model(feature_train, label_train, feature_test, label_test, num_iterations = 5000, learning_rate = 0.05, print_cost = False)"
      ],
      "execution_count": 632,
      "outputs": [
        {
          "output_type": "stream",
          "text": [
            "Test set accuracy : 75.52083333333334 %\n"
          ],
          "name": "stdout"
        }
      ]
    },
    {
      "cell_type": "code",
      "metadata": {
        "id": "-KpYNowC9n8-",
        "colab_type": "code",
        "colab": {
          "base_uri": "https://localhost:8080/",
          "height": 295
        },
        "outputId": "76f8ab45-461a-4137-a64b-442842c6e05b"
      },
      "source": [
        "# Plot learning curve (with costs)\n",
        "costs = np.squeeze(final_values['costs'])\n",
        "plt.plot(costs)\n",
        "plt.ylabel('cost')\n",
        "plt.xlabel('iterations (per hundreds)')\n",
        "plt.title(\"Learning rate =\" + str(final_values[\"learning_rate\"]))\n",
        "plt.show()"
      ],
      "execution_count": 633,
      "outputs": [
        {
          "output_type": "display_data",
          "data": {
            "image/png": "[encoded data removed]",
            "text/plain": [
              "<Figure size 432x288 with 1 Axes>"
            ]
          },
          "metadata": {
            "tags": []
          }
        }
      ]
    },
    {
      "cell_type": "code",
      "metadata": {
        "id": "rLgxPLGe1m_A",
        "colab_type": "code",
        "colab": {
          "base_uri": "https://localhost:8080/",
          "height": 534
        },
        "outputId": "465144c5-3f7d-411f-ad43-44cf835a046d"
      },
      "source": [
        "learning_rates = [0.01, 0.001, 0.0001]\n",
        "models = {}\n",
        "for i in learning_rates:\n",
        "    print (\"learning rate is: \" + str(i))\n",
        "    models[str(i)] = Logistic_Regression_Model(feature_train, label_train, feature_test, label_test, num_iterations = 10000, learning_rate = i, print_cost = False)\n",
        "    print ('\\n' + \"-------------------------------------------------------\" + '\\n')\n",
        "\n",
        "for i in learning_rates:\n",
        "    plt.plot(np.squeeze(models[str(i)][\"costs\"]), label= str(models[str(i)][\"learning_rate\"]))\n",
        "\n",
        "plt.ylabel('cost')\n",
        "plt.xlabel('iterations (hundreds)')\n",
        "\n",
        "legend = plt.legend(loc='upper center', shadow=True)\n",
        "frame = legend.get_frame()\n",
        "frame.set_facecolor('0.90')\n",
        "plt.show()"
      ],
      "execution_count": 634,
      "outputs": [
        {
          "output_type": "stream",
          "text": [
            "learning rate is: 0.01\n",
            "Test set accuracy : 75.52083333333334 %\n",
            "\n",
            "-------------------------------------------------------\n",
            "\n",
            "learning rate is: 0.001\n",
            "Test set accuracy : 76.04166666666666 %\n",
            "\n",
            "-------------------------------------------------------\n",
            "\n",
            "learning rate is: 0.0001\n",
            "Test set accuracy : 72.91666666666667 %\n",
            "\n",
            "-------------------------------------------------------\n",
            "\n"
          ],
          "name": "stdout"
        },
        {
          "output_type": "display_data",
          "data": {
            "image/png": "[encoded data removed]",
            "text/plain": [
              "<Figure size 432x288 with 1 Axes>"
            ]
          },
          "metadata": {
            "tags": []
          }
        }
      ]
    },
    {
      "cell_type": "code",
      "metadata": {
        "id": "y-cVRa9Y8ijA",
        "colab_type": "code",
        "colab": {}
      },
      "source": [
        ""
      ],
      "execution_count": 0,
      "outputs": []
    }
  ]
}